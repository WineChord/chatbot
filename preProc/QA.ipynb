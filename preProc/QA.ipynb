{
 "metadata": {
  "name": "",
  "signature": "sha256:2afa2b19d5f1ae3bcc927c95fef397f0a20391022f050a5d6175531c8c44e339"
 },
 "nbformat": 3,
 "nbformat_minor": 0,
 "worksheets": [
  {
   "cells": [
    {
     "cell_type": "code",
     "collapsed": false,
     "input": [
      "from docx import Document\n",
      "from processDoc import *\n",
      "from preProc import *\n",
      "from importlib import *\n",
      "import preProc\n",
      "import copy\n",
      "import re\n",
      "import mysql.connector\n",
      "from mysql.connector import errorcode"
     ],
     "language": "python",
     "metadata": {},
     "outputs": [],
     "prompt_number": 392
    },
    {
     "cell_type": "code",
     "collapsed": false,
     "input": [
      "faulty_part_records, sensor_records = getData()"
     ],
     "language": "python",
     "metadata": {},
     "outputs": [],
     "prompt_number": 286
    },
    {
     "cell_type": "code",
     "collapsed": false,
     "input": [
      "new_faulty = copy.deepcopy(faulty_part_records)\n",
      "new_sensor = copy.deepcopy(sensor_records)\n",
      "new_sensor = new_sensor[:-1]"
     ],
     "language": "python",
     "metadata": {},
     "outputs": [],
     "prompt_number": 346
    },
    {
     "cell_type": "code",
     "collapsed": false,
     "input": [
      "# old labels:\n",
      "#     identifier: e.g. '2.3.1'\n",
      "#     index: e.g. '2.3.1 ALM-0x12000001 \u8fdb\u98ce\u53e3\u6e29\u5ea6\u8fc7\u9ad8(Chassis,\u8f7b\u5fae\u544a\u8b66)'\n",
      "#     explanation:  \u544a\u8b66\u89e3\u91ca\n",
      "#     impact_on_sys: \u5bf9\u7cfb\u7edf\u7684\u5f71\u54cd\n",
      "#     causes: \u53ef\u80fd\u539f\u56e0\n",
      "#     solutions: \u5904\u7406\u6b65\u9aa4\n",
      "# NEW labels:\n",
      "#     identifier: e.g. '2.3.1'\n",
      "#     index: e.g. '2.3.1 ALM-0x12000001 \u8fdb\u98ce\u53e3\u6e29\u5ea6\u8fc7\u9ad8(Chassis,\u8f7b\u5fae\u544a\u8b66)'\n",
      "#   * label: \u6545\u969c\u6807\u7b7e e.g. 'ALM-0x12000001'\n",
      "#   * phenomenon:  \u73b0\u8c61 e.g. '\u8fdb\u98ce\u53e3\u6e29\u5ea6\u8fc7\u9ad8'\n",
      "#   * faulty_body:  \u6545\u969c\u4e3b\u4f53 e.g.  'Chassis'\n",
      "#   * degree:  \u6545\u969c\u7b49\u7ea7 e.g.  '\u8f7b\u5fae\u544a\u8b66'  **(sensor don't have such label)**\n",
      "#     explanation:  \u544a\u8b66\u89e3\u91ca e.g. '\u544a\u8b66\u63cf\u8ff0:', 'The air inlet temperature ( arg1 degrees C) exceeds the overtemperature threshold ( arg2 degrees C).'...\n",
      "#     impact_on_sys: \u5bf9\u7cfb\u7edf\u7684\u5f71\u54cd e.g. '\u8fdb\u98ce\u53e3\u6e29\u5ea6\u8fc7\u9ad8\u4f1a\u5f71\u54cd\u5668\u4ef6\u6027\u80fd,\u5bfc\u81f4\u8bbe\u5907\u8fd0\u884c\u4e0d\u7a33\u5b9a\u3002'\n",
      "#     causes: \u53ef\u80fd\u539f\u56e0 e.g.  'l \u73af\u5883\u6e29\u5ea6\u8fc7\u9ad8\u3002', 'l \u8fdb\u98ce\u53e3\u88ab\u5835\u4f4f\u3002', ...\n",
      "#     solutions: \u5904\u7406\u6b65\u9aa4 e.g. '\u6b65\u9aa41 \u68c0\u67e5\u673a\u623f\u73af\u5883\u6e29\u5ea6\u662f\u5426\u5df2\u8d85\u51fa\u8bbe\u5907\u8fd0\u884c\u73af\u5883\u8981\u6c42\u7684\u6e29\u5ea6\u3002' ..."
     ],
     "language": "python",
     "metadata": {},
     "outputs": [],
     "prompt_number": 288
    },
    {
     "cell_type": "code",
     "collapsed": false,
     "input": [
      "def generateNEWlabels(new_faulty):\n",
      "    \"\"\"\n",
      "    generate new labels\n",
      "    :para list \n",
      "    :return list with new labels\n",
      "    \"\"\"\n",
      "    for i, faulty in enumerate(new_faulty):\n",
      "        # generate label\n",
      "        match = re.search(r\"A[\\S]+\", str(faulty))\n",
      "        new_faulty[i](label=match.group())\n",
      "        # generate phenomenon\n",
      "        s = \" \"\n",
      "        match = re.search(r\"[^(]+\", s.join(str(faulty).split(' ')[2:]))\n",
      "        new_faulty[i](phenomenon=match.group())\n",
      "        # generate degree\n",
      "        match = re.search(r\".{2}\u544a\u8b66\", str(faulty))\n",
      "        if match != None:\n",
      "            new_faulty[i](degree=match.group())\n",
      "        # generate faulty_body\n",
      "        match = re.search(r\"\\([^ ,)]+\", str(faulty))\n",
      "        new_faulty[i](faulty_body=match.group()[1:])\n",
      "        # refine explanation\n",
      "        faulty.explanation = ''.join(faulty.explanation)\n",
      "        # refine impact_on_sys\n",
      "        for j, item in enumerate(faulty.impact_on_sys):\n",
      "            if item[0] == 'l':\n",
      "                if len(item) == 1:\n",
      "                    faulty.impact_on_sys[j] = \" \"\n",
      "                else:\n",
      "                    faulty.impact_on_sys[j] = item[1:]\n",
      "        faulty.impact_on_sys = ''.join(faulty.impact_on_sys)\n",
      "        # refine causes\n",
      "        for j, item in enumerate(faulty.causes):\n",
      "            if item[0] == 'l':\n",
      "                if len(item) == 1:\n",
      "                    faulty.causes[j] = \" \"\n",
      "                else:\n",
      "                    faulty.causes[j] = item[1:]\n",
      "        faulty.causes = ''.join(faulty.causes)\n",
      "        # refine solutions\n",
      "        for j, item in enumerate(faulty.solutions):\n",
      "            if item[0] == 'l':\n",
      "                if len(item) == 1:\n",
      "                    faulty.solutions[j] = \" \"\n",
      "                else:\n",
      "                    faulty.solutions[j] = item[1:]\n",
      "        faulty.solutions = '\\n'.join(faulty.solutions)\n",
      "        # generate alarm type\n",
      "        match = re.search(r\"\\.\\d{1,2}\\.\", faulty.identifier)\n",
      "        if match.group() == '.3.':\n",
      "            new_faulty[i](alarm_type='temperature')\n",
      "        elif match.group() == '.4.':\n",
      "            new_faulty[i](alarm_type='power')\n",
      "        elif match.group() == '.5.':\n",
      "            new_faulty[i](alarm_type='watchdog')\n",
      "        elif match.group() == '.6.':\n",
      "            new_faulty[i](alarm_type='subsystem')\n",
      "        elif match.group() == '.7.':\n",
      "            new_faulty[i](alarm_type='storage')\n",
      "        elif match.group() == '.8.':\n",
      "            new_faulty[i](alarm_type='fan')\n",
      "        elif match.group() == '.9.':\n",
      "            new_faulty[i](alarm_type='memory')\n",
      "        elif match.group() == '.10.':\n",
      "            new_faulty[i](alarm_type='others')\n",
      "    return new_faulty"
     ],
     "language": "python",
     "metadata": {},
     "outputs": [],
     "prompt_number": 347
    },
    {
     "cell_type": "code",
     "collapsed": false,
     "input": [
      "_ = generateNEWlabels(new_faulty)\n",
      "_ = generateNEWlabels(new_sensor)"
     ],
     "language": "python",
     "metadata": {},
     "outputs": [],
     "prompt_number": 348
    },
    {
     "cell_type": "code",
     "collapsed": false,
     "input": [
      "cnx = mysql.connector.connect(user='mychat',password='qazwsx456852')\n",
      "cursor = cnx.cursor()"
     ],
     "language": "python",
     "metadata": {},
     "outputs": [],
     "prompt_number": 385
    },
    {
     "cell_type": "code",
     "collapsed": false,
     "input": [
      "# old labels:\n",
      "#     identifier: e.g. '2.3.1'\n",
      "#     index: e.g. '2.3.1 ALM-0x12000001 \u8fdb\u98ce\u53e3\u6e29\u5ea6\u8fc7\u9ad8(Chassis,\u8f7b\u5fae\u544a\u8b66)'\n",
      "#     explanation:  \u544a\u8b66\u89e3\u91ca\n",
      "#     impact_on_sys: \u5bf9\u7cfb\u7edf\u7684\u5f71\u54cd\n",
      "#     causes: \u53ef\u80fd\u539f\u56e0\n",
      "#     solutions: \u5904\u7406\u6b65\u9aa4\n",
      "# NEW labels:\n",
      "#     identifier: e.g. '2.3.1'\n",
      "#     index: e.g. '2.3.1 ALM-0x12000001 \u8fdb\u98ce\u53e3\u6e29\u5ea6\u8fc7\u9ad8(Chassis,\u8f7b\u5fae\u544a\u8b66)'\n",
      "#   * label: \u6545\u969c\u6807\u7b7e e.g. 'ALM-0x12000001'\n",
      "#   * phenomenon:  \u73b0\u8c61 e.g. '\u8fdb\u98ce\u53e3\u6e29\u5ea6\u8fc7\u9ad8'\n",
      "#   * faulty_body:  \u6545\u969c\u4e3b\u4f53 e.g.  'Chassis'\n",
      "#   * degree:  \u6545\u969c\u7b49\u7ea7 e.g.  '\u8f7b\u5fae\u544a\u8b66'  **(sensor doesn't have such label)**\n",
      "#     explanation:  \u544a\u8b66\u89e3\u91ca e.g. '\u544a\u8b66\u63cf\u8ff0:', 'The air inlet temperature ( arg1 degrees C) exceeds the overtemperature threshold ( arg2 degrees C).'...\n",
      "#     impact_on_sys: \u5bf9\u7cfb\u7edf\u7684\u5f71\u54cd e.g. '\u8fdb\u98ce\u53e3\u6e29\u5ea6\u8fc7\u9ad8\u4f1a\u5f71\u54cd\u5668\u4ef6\u6027\u80fd,\u5bfc\u81f4\u8bbe\u5907\u8fd0\u884c\u4e0d\u7a33\u5b9a\u3002'\n",
      "#     causes: \u53ef\u80fd\u539f\u56e0 e.g.  'l \u73af\u5883\u6e29\u5ea6\u8fc7\u9ad8\u3002', 'l \u8fdb\u98ce\u53e3\u88ab\u5835\u4f4f\u3002', ...\n",
      "#     solutions: \u5904\u7406\u6b65\u9aa4 e.g. '\u6b65\u9aa41 \u68c0\u67e5\u673a\u623f\u73af\u5883\u6e29\u5ea6\u662f\u5426\u5df2\u8d85\u51fa\u8bbe\u5907\u8fd0\u884c\u73af\u5883\u8981\u6c42\u7684\u6e29\u5ea6\u3002' ..."
     ],
     "language": "python",
     "metadata": {},
     "outputs": [],
     "prompt_number": 386
    },
    {
     "cell_type": "code",
     "collapsed": false,
     "input": [
      "new_faulty[0].solutions"
     ],
     "language": "python",
     "metadata": {},
     "outputs": [
      {
       "metadata": {},
       "output_type": "pyout",
       "prompt_number": 387,
       "text": [
        "'\u6b65\u9aa41 \u68c0\u67e5\u673a\u623f\u73af\u5883\u6e29\u5ea6\u662f\u5426\u5df2\u8d85\u51fa\u8bbe\u5907\u8fd0\u884c\u73af\u5883\u8981\u6c42\u7684\u6e29\u5ea6\u3002\\n \u662f => \u6b65\u9aa42\\n \u5426 => \u6b65\u9aa43\\n\u6b65\u9aa42 \u5c06\u673a\u623f\u73af\u5883\u6e29\u5ea6\u964d\u4f4e\u81f3\u8bbe\u5907\u8fd0\u884c\u73af\u5883\u8981\u6c42\u7684\u6e29\u5ea6,5min\u540e\u68c0\u67e5\u544a\u8b66\u662f\u5426\u6d88\u5931\u3002\\n \u662f => \u5904\u7406\u5b8c\u6bd5\\n \u5426 => \u6b65\u9aa43\\n\u6b65\u9aa43 \u68c0\u67e5\u670d\u52a1\u5668\u8fdb\u98ce\u53e3\u662f\u5426\u6709\u5f02\u7269\u5835\u585e\u3002\\n \u662f => \u6b65\u9aa44\\n \u5426 => \u6b65\u9aa45\\n\u6b65\u9aa44 \u6e05\u9664\u5f02\u7269,5min\u540e\u68c0\u67e5\u544a\u8b66\u662f\u5426\u6d88\u5931\u3002\\n \u662f => \u5904\u7406\u5b8c\u6bd5\\n \u5426 => \u6b65\u9aa45\\n\u6b65\u9aa45 \u68c0\u67e5\u670d\u52a1\u5668\u4e4b\u95f4\u7684\u7a7a\u69fd\u4f4d\u6216\u95f4\u9694\u662f\u5426\u5df2\u52a0\u5047\u9762\u677f\u6216\u6321\u677f\u3002\\n \u662f => \u6b65\u9aa47\\n \u5426 => \u6b65\u9aa46\\n\u6b65\u9aa46 \u4e3a\u670d\u52a1\u5668\u4e4b\u95f4\u7684\u7a7a\u69fd\u4f4d\u6216\u95f4\u9694\u5b89\u88c5\u5047\u9762\u677f\u6216\u6321\u677f,\u68c0\u67e5\u544a\u8b66\u662f\u5426\u6d88\u5931\u3002\\n \u662f => \u5904\u7406\u5b8c\u6bd5\\n \u5426 => \u6b65\u9aa47\\n\u6b65\u9aa47 \u66f4\u6362\u4f20\u611f\u5668\u6240\u5728\u90e8\u4ef6,\u68c0\u67e5\u544a\u8b66\u662f\u5426\u6d88\u5931\u3002\\n\u5404\u670d\u52a1\u5668\u7684\u8fdb\u98ce\u53e3\u6e29\u5ea6\u4f20\u611f\u5668\u6240\u5728\u90e8\u4ef6\u8bf7\u53c2\u89c1\u5176\u7528\u6237\u6307\u5357\u7684\u4f20\u611f\u5668\u5217\u8868,\u6b64\u5904\u505a\u7b80\u8981\\n\u4ecb\u7ecd:\\n 1U\u673a\u67b6\u670d\u52a1\u5668\u7684\u8fdb\u98ce\u53e3\u6e29\u5ea6\u4f20\u611f\u5668\u4f4d\u4e8e\u706f\u677f\u3002\\n 2U\u673a\u67b6\u670d\u52a1\u5668\u7684\u8fdb\u98ce\u53e3\u6e29\u5ea6\u4f20\u611f\u5668\u4f4d\u4e8e\u5de6\u6302\u8033\u706f\u677f\u3002\\n RH5885 V3\u548cRH5885H V3\u670d\u52a1\u5668\u7684\u8fdb\u98ce\u53e3\u6e29\u5ea6\u4f20\u611f\u5668\u4f4d\u4e8e\u53f3\u6302\u8033\u706f\u677f\u3002\\n RH8100 V3\u30018100 V5\u30019008 V5\u30015885H V5\u670d\u52a1\u5668\u7684\u8fdb\u98ce\u53e3\u6e29\u5ea6\u4f20\u611f\u5668\u4f4d\u4e8e\u5de6\u6302\\n\u8033\u706f\u677f\u3002\\n\u4ee5RH2288H V3\u670d\u52a1\u5668\u4e3a\u4f8b,\u9700\u8981\u66f4\u6362\u5de6\u6302\u8033\u3002\u66f4\u6362\u65b9\u6cd5\u8bf7\u53c2\u8003\u7528\u6237\u6307\u5357\u4e2d\u7684\u201c\u66f4\u6362\u90e8\\n\u4ef6\u201d\u7ae0\u8282\u3002\\n \u662f => \u5904\u7406\u5b8c\u6bd5\\n \u5426 => \u6b65\u9aa48\\n\u6b65\u9aa48 \u8bf7\u8054\u7cfb\u534e\u4e3a\u6280\u672f\u652f\u6301\u5de5\u7a0b\u5e08\u5904\u7406\u3002'"
       ]
      }
     ],
     "prompt_number": 387
    },
    {
     "cell_type": "code",
     "collapsed": false,
     "input": [
      "maxN = 0\n",
      "for i in new_faulty + new_sensor:\n",
      "    newLen = len(i.solutions)\n",
      "    if newLen > maxN:\n",
      "        maxN = newLen\n",
      "        maxi = i\n",
      "# print(maxN, maxi.solutions)"
     ],
     "language": "python",
     "metadata": {},
     "outputs": [],
     "prompt_number": 353
    },
    {
     "cell_type": "code",
     "collapsed": false,
     "input": [
      "TABLES = {}\n",
      "TABLES['faulty_part'] = (\n",
      "    \"CREATE TABLE `faulty_part` (\"\n",
      "    \"  `record_no` int(3) NOT NULL AUTO_INCREMENT,\"\n",
      "    \"  `identifier` varchar(8) NOT NULL,\"\n",
      "    \"  `index` varchar(100) NOT NULL,\"\n",
      "    \"  `label` varchar(28) NOT NULL,\"\n",
      "    \"  `phenomenon` varchar(80) NOT NULL,\"\n",
      "    \"  `faulty_body` varchar(16) NOT NULL,\"\n",
      "    \"  `degree` varchar(20),\"\n",
      "    \"  `explanation` varchar(840) NOT NULL,\"\n",
      "    \"  `impact_on_sys` varchar(480) NOT NULL,\"\n",
      "    \"  `causes` varchar(750) NOT NULL,\"\n",
      "    \"  `solutions` varchar(3000) NOT NULL,\"\n",
      "    \"  PRIMARY KEY (`record_no`)\"\n",
      "    \") ENGINE=InnoDB\")\n",
      "TABLES['sensor'] = (\n",
      "    \"CREATE TABLE `sensor` (\"\n",
      "    \"  `record_no` int(3) NOT NULL AUTO_INCREMENT,\"\n",
      "    \"  `identifier` varchar(8) NOT NULL,\"\n",
      "    \"  `index` varchar(100) NOT NULL,\"\n",
      "    \"  `label` varchar(28) NOT NULL,\"\n",
      "    \"  `phenomenon` varchar(80) NOT NULL,\"\n",
      "    \"  `faulty_body` varchar(16) NOT NULL,\"\n",
      "    \"  `explanation` varchar(840) NOT NULL,\"\n",
      "    \"  `impact_on_sys` varchar(480) NOT NULL,\"\n",
      "    \"  `causes` varchar(750) NOT NULL,\"\n",
      "    \"  `solutions` varchar(3000) NOT NULL,\"\n",
      "    \"  PRIMARY KEY (`record_no`)\"\n",
      "    \") ENGINE=InnoDB\")"
     ],
     "language": "python",
     "metadata": {},
     "outputs": [],
     "prompt_number": 388
    },
    {
     "cell_type": "code",
     "collapsed": false,
     "input": [
      "DB_NAME = 'database_chat'"
     ],
     "language": "python",
     "metadata": {},
     "outputs": [],
     "prompt_number": 389
    },
    {
     "cell_type": "code",
     "collapsed": false,
     "input": [
      "def create_database(cursor):\n",
      "    try:\n",
      "        cursor.execute(\n",
      "            \"CREATE DATABASE {} DEFAULT CHARACTER SET 'utf8'\".format(DB_NAME))\n",
      "    except mysql.connector.Error as err:\n",
      "        print(\"Failed creating database: {}\".format(err))\n",
      "        exit(1)\n",
      "try:\n",
      "    cnx.database = DB_NAME \n",
      "except mysql.connector.Error as err:\n",
      "    if err.errno == errorcode.ER_BAD_DB_ERROR:\n",
      "        create_database(cursor)\n",
      "        cnx.database = DB_NAME\n",
      "    else:\n",
      "        print(err)\n",
      "        exit(1)"
     ],
     "language": "python",
     "metadata": {},
     "outputs": [],
     "prompt_number": 390
    },
    {
     "cell_type": "code",
     "collapsed": false,
     "input": [
      "for name, ddl in TABLES.items():\n",
      "    try:\n",
      "        print(\"Creating table {}: \".format(name), end='')\n",
      "        cursor.execute(ddl)\n",
      "    except mysql.connector.Error as err:\n",
      "        if err.errno == errorcode.ER_TABLE_EXISTS_ERROR:\n",
      "            print(\"already exists.\")\n",
      "        else:\n",
      "            print(err.msg)\n",
      "    else:\n",
      "        print(\"OK\")\n",
      "\n",
      "cursor.close()\n",
      "cnx.close()"
     ],
     "language": "python",
     "metadata": {},
     "outputs": [
      {
       "output_type": "stream",
       "stream": "stdout",
       "text": [
        "Creating table sensor: OK"
       ]
      },
      {
       "output_type": "stream",
       "stream": "stdout",
       "text": [
        "\n",
        "Creating table faulty_part: OK"
       ]
      },
      {
       "output_type": "stream",
       "stream": "stdout",
       "text": [
        "\n"
       ]
      }
     ],
     "prompt_number": 391
    },
    {
     "cell_type": "code",
     "collapsed": false,
     "input": [
      "cnx = mysql.connector.connect(user='mychat', password='qazwsx456852', database='database_chat')\n",
      "cursor = cnx.cursor()"
     ],
     "language": "python",
     "metadata": {},
     "outputs": [],
     "prompt_number": 467
    },
    {
     "cell_type": "code",
     "collapsed": false,
     "input": [
      "add_faulty_part = (\"INSERT INTO faulty_part \"\n",
      "    # \"(identifier, index, label, phenomenon, faulty_body, degree, explanation, impact_on_sys, causes, solutions) \"\n",
      "    \"VALUES (NULL, %s, %s, %s, %s, %s, %s, %s, %s, %s, %s)\")\n",
      "# data_faulty = (\"a\", \"b\", \"a\", \"b\", \"a\", \"b\", \"a\", \"b\", \"a\", \"b\")\n",
      "# cursor.execute(add_faulty_part, data_faulty)"
     ],
     "language": "python",
     "metadata": {},
     "outputs": [],
     "prompt_number": 468
    },
    {
     "cell_type": "code",
     "collapsed": false,
     "input": [
      "for j, i in enumerate(new_faulty):\n",
      "    data_faulty = (i.identifier, i[0], i.label, i.phenomenon, i.faulty_body, i.degree, i.explanation, i.impact_on_sys, i.causes, i.solutions)\n",
      "    cursor.execute(add_faulty_part, data_faulty)"
     ],
     "language": "python",
     "metadata": {},
     "outputs": [],
     "prompt_number": 469
    },
    {
     "cell_type": "code",
     "collapsed": false,
     "input": [
      "cnx.commit()\n",
      "cursor.close()\n",
      "cnx.close()"
     ],
     "language": "python",
     "metadata": {},
     "outputs": [],
     "prompt_number": 470
    },
    {
     "cell_type": "code",
     "collapsed": false,
     "input": [
      "cnx = mysql.connector.connect(user='mychat', password='qazwsx456852', database='database_chat')\n",
      "cursor = cnx.cursor()\n",
      "\n",
      "add_sensor_part = (\"INSERT INTO sensor \"\n",
      "    \"VALUES (NULL, %s, %s, %s, %s, %s, %s, %s, %s, %s)\")\n",
      "\n",
      "for j, i in enumerate(new_sensor):\n",
      "    data_sensor = (i.identifier, i[0], i.label, i.phenomenon, i.faulty_body, i.explanation, i.impact_on_sys, i.causes, i.solutions)\n",
      "    cursor.execute(add_sensor_part, data_sensor)\n",
      "cnx.commit()\n",
      "cursor.close()\n",
      "cnx.close()"
     ],
     "language": "python",
     "metadata": {},
     "outputs": [],
     "prompt_number": 473
    },
    {
     "cell_type": "code",
     "collapsed": false,
     "input": [
      "len(new_faulty)"
     ],
     "language": "python",
     "metadata": {},
     "outputs": [
      {
       "metadata": {},
       "output_type": "pyout",
       "prompt_number": 475,
       "text": [
        "243"
       ]
      }
     ],
     "prompt_number": 475
    },
    {
     "cell_type": "code",
     "collapsed": false,
     "input": [
      "# for j, i in enumerate(new_faulty):\n",
      "#     print(j, i.causes, end=\"\\n\\n\")#, i.causes, i.impact_on_sys, i.solutions)"
     ],
     "language": "python",
     "metadata": {},
     "outputs": [],
     "prompt_number": 500
    },
    {
     "cell_type": "code",
     "collapsed": false,
     "input": [
      "# \u51fa\u73b0\u00d7\u00d7\u00d7\u73b0\u8c61\u7684\u6545\u969c\u4e3b\u4f53\u662f\u4ec0\u4e48\uff08faulty_part\uff09    #### \u6545\u969c\u4e3b\u4f53\n",
      "# \u51fa\u73b0\u00d7\u00d7\u00d7\u73b0\u8c61\u7684\u539f\u56e0\u662f\u4ec0\u4e48\uff08causes\uff09            #### \u539f\u56e0\n",
      "# \u51fa\u73b0\u00d7\u00d7\u00d7\u73b0\u8c61\u5bf9\u7cfb\u7edf\u7684\u5f71\u54cd\u662f\u4ec0\u4e48\uff08impact_on_sys\uff09#### \u5f71\u54cd\n",
      "# \u51fa\u73b0\u00d7\u00d7\u00d7\u73b0\u8c61\u540e\uff0c\u8be5\u600e\u4e48\u89e3\u51b3\uff1f\uff08solutions\uff09      #### \u89e3\u51b3\n",
      "# \u51fa\u73b0\u00d7\u00d7\u00d7\u73b0\u8c61\u7684\u8be6\u7ec6\u89e3\u91ca\u662f\u4ec0\u4e48\uff1f \uff08explanation\uff09 #### \u89e3\u91ca"
     ],
     "language": "python",
     "metadata": {},
     "outputs": []
    },
    {
     "cell_type": "code",
     "collapsed": false,
     "input": [
      "total_index = []"
     ],
     "language": "python",
     "metadata": {},
     "outputs": [],
     "prompt_number": 528
    },
    {
     "cell_type": "code",
     "collapsed": false,
     "input": [
      "for j, i in enumerate(new_faulty):\n",
      "    total_index += [i.phenomenon + ' ' + i.degree]"
     ],
     "language": "python",
     "metadata": {},
     "outputs": [],
     "prompt_number": 529
    },
    {
     "cell_type": "code",
     "collapsed": false,
     "input": [
      "total_index[-5:]"
     ],
     "language": "python",
     "metadata": {},
     "outputs": [
      {
       "metadata": {},
       "output_type": "pyout",
       "prompt_number": 537,
       "text": [
        "['DDR \u5de5\u4f5c\u5f02\u5e38 \u4e25\u91cd\u544a\u8b66',\n",
        " 'PCIe \u94fe\u8def\u5f02\u5e38 \u4e25\u91cd\u544a\u8b66',\n",
        " '\u4e1a\u52a1\u5f02\u5e38\u4e2d\u65ad \u4e25\u91cd\u544a\u8b66',\n",
        " '\u786c\u76d8 VPD \u4fe1\u606f\u8bfb\u53d6\u5931\u8d25 \u8f7b\u5fae\u544a\u8b66',\n",
        " '\u903b\u8f91\u76d8\u964d\u7ea7/\u90e8\u5206\u964d\u7ea7/\u79bb\u7ebf \u4e25\u91cd\u544a\u8b66']"
       ]
      }
     ],
     "prompt_number": 537
    },
    {
     "cell_type": "code",
     "collapsed": false,
     "input": [
      "import nltk\n",
      "import jieba.analyse\n",
      "from nltk.tokenize import word_tokenize\n",
      "from nltk.stem.lancaster import LancasterStemmer\n",
      "from gensim import corpora, models, similarities"
     ],
     "language": "python",
     "metadata": {},
     "outputs": [],
     "prompt_number": 547
    },
    {
     "cell_type": "code",
     "collapsed": false,
     "input": [
      "def pre_process_cn(courses, low_freq_filter = True):\n",
      "    texts_tokenized = []\n",
      "    for document in courses:\n",
      "        texts_tokenized_tmp = []\n",
      "        for word in word_tokenize(document):\n",
      "            # extract_tags(sentence, topK=20, withWeight=False,\n",
      "            #   allowPOS=(), withFlag=False) method of \n",
      "            #   jieba.tfidf.TFIDF instance.\n",
      "            #   Extract keywords from sentence using TF-IDF\n",
      "            #   algorithm. \n",
      "            # para: topK: return how many top keywords\n",
      "            texts_tokenized_tmp += jieba.analyse.extract_tags(word,10)\n",
      "        texts_tokenized.append(texts_tokenized_tmp)   \n",
      "   \n",
      "    texts_filtered_stopwords = texts_tokenized\n",
      "\n",
      "    #\u53bb\u9664\u6807\u70b9\u7b26\u53f7\n",
      "    english_punctuations = [',', '.', ':', ';', '?', '(', ')', '[', ']', '&', '!', '*', '@', '#', '$', '%']\n",
      "    texts_filtered = [[word for word in document if not word in english_punctuations] for document in texts_filtered_stopwords]\n",
      "\n",
      "    #\u8bcd\u5e72\u5316\n",
      "    st = LancasterStemmer()\n",
      "    texts_stemmed = [[st.stem(word) for word in docment] for docment in texts_filtered]\n",
      "   \n",
      "    #\u53bb\u9664\u8fc7\u4f4e\u9891\u8bcd\n",
      "    if low_freq_filter:\n",
      "        all_stems = sum(texts_stemmed, [])\n",
      "        stems_once = set(stem for stem in set(all_stems) if all_stems.count(stem) == 1)\n",
      "        texts = [[stem for stem in text if stem not in stems_once] for text in texts_stemmed]\n",
      "    else:\n",
      "        texts = texts_stemmed\n",
      "    return texts"
     ],
     "language": "python",
     "metadata": {},
     "outputs": [],
     "prompt_number": 539
    },
    {
     "cell_type": "code",
     "collapsed": false,
     "input": [
      "lib_texts = pre_process_cn(total_index, False)"
     ],
     "language": "python",
     "metadata": {},
     "outputs": [],
     "prompt_number": 544
    },
    {
     "cell_type": "code",
     "collapsed": false,
     "input": [
      "def train_by_lsi(lib_texts):\n",
      "    #\u4e3a\u4e86\u80fd\u770b\u5230\u8fc7\u7a0b\u65e5\u5fd7\n",
      "    #import logging\n",
      "    #logging.basicConfig(format='%(asctime)s : %(levelname)s : %(message)s', level=logging.INFO)\n",
      "    # a mapping between words and their integer ids.\n",
      "    dictionary = corpora.Dictionary(lib_texts)\n",
      "    # doc2bow(): \u5c06collection words \u8f6c\u4e3a\u8bcd\u888b\uff0c\u7528\u4e24\u5143\u7ec4(word_id, word_frequency)\u8868\u793a\n",
      "    # (word_id, word_count)\n",
      "    corpus = [dictionary.doc2bow(text) for text in lib_texts]     \n",
      "    tfidf = models.TfidfModel(corpus)\n",
      "    corpus_tfidf = tfidf[corpus]\n",
      "\n",
      "    #\u62cd\u8111\u888b\u7684\uff1a\u8bad\u7ec3topic\u6570\u91cf\u4e3a10\u7684LSI\u6a21\u578b\n",
      "    lsi = models.LsiModel(corpus_tfidf, id2word=dictionary, num_topics=10)\n",
      "    index = similarities.MatrixSimilarity(lsi[corpus])     # index \u662f gensim.similarities.docsim.MatrixSimilarity \u5b9e\u4f8b\n",
      "   \n",
      "    return (index, dictionary, lsi)"
     ],
     "language": "python",
     "metadata": {},
     "outputs": [],
     "prompt_number": 548
    },
    {
     "cell_type": "code",
     "collapsed": false,
     "input": [
      "(index,dictionary,lsi) = train_by_lsi(lib_texts)"
     ],
     "language": "python",
     "metadata": {},
     "outputs": [
      {
       "output_type": "stream",
       "stream": "stderr",
       "text": [
        "WARNING:gensim.similarities.docsim:scanning corpus to determine the number of features (consider setting `num_features` explicitly)\n"
       ]
      },
      {
       "output_type": "stream",
       "stream": "stderr",
       "text": [
        "/usr/local/lib/python3.5/dist-packages/gensim/matutils.py:737: FutureWarning: Conversion of the second argument of issubdtype from `int` to `np.signedinteger` is deprecated. In future, it will be treated as `np.int64 == np.dtype(int).type`.\n",
        "  if np.issubdtype(vec.dtype, np.int):\n"
       ]
      }
     ],
     "prompt_number": 549
    },
    {
     "cell_type": "code",
     "collapsed": false,
     "input": [],
     "language": "python",
     "metadata": {},
     "outputs": [],
     "prompt_number": 610
    },
    {
     "cell_type": "code",
     "collapsed": false,
     "input": [
      "target = [u'\u6211\u60f3\u77e5\u9053\u7535\u6e90\u6e29\u5ea6\u8fc7\u9ad8\u7684\u539f\u56e0\u662f\u4ec0\u4e48\uff1f\u600e\u4e48\u89e3\u51b3\uff1f']\n",
      "target_text = pre_process_cn(target, low_freq_filter=False)"
     ],
     "language": "python",
     "metadata": {},
     "outputs": [],
     "prompt_number": 604
    },
    {
     "cell_type": "code",
     "collapsed": false,
     "input": [
      "text = target_text[0]\n",
      "bow = dictionary.doc2bow(text)\n",
      "ml_lsi = lsi[bow]     #ml_lsi \u5f62\u5f0f\u5982 (topic_id, topic_value)\n",
      "sims = index[ml_lsi] "
     ],
     "language": "python",
     "metadata": {},
     "outputs": [],
     "prompt_number": 605
    },
    {
     "cell_type": "code",
     "collapsed": false,
     "input": [
      "sort_sims = sorted(enumerate(sims), key=lambda item: -item[1])\n",
      "print(sort_sims[0:10])   #\u770b\u4e0b\u524d10\u4e2a\u6700\u76f8\u4f3c\u7684\uff0c\u7b2c\u4e00\u4e2a\u662f\u57fa\u51c6\u6570\u636e\u81ea\u8eab\n",
      "print(total_index[sort_sims[1][0]])   #\u770b\u4e0b\u5b9e\u9645\u6700\u76f8\u4f3c\u7684\u6570\u636e\u53eb\u4ec0\u4e48\n",
      "print(total_index[sort_sims[2][0]])   #\u770b\u4e0b\u5b9e\u9645\u6700\u76f8\u4f3c\u7684\u6570\u636e\u53eb\u4ec0\u4e48\n",
      "print(total_index[sort_sims[3][0]])   #\u770b\u4e0b\u5b9e\u9645\u6700\u76f8\u4f3c\u7684\u6570\u636e\u53eb\u4ec0\u4e48"
     ],
     "language": "python",
     "metadata": {},
     "outputs": [
      {
       "output_type": "stream",
       "stream": "stdout",
       "text": [
        "[(19, 0.9768332), (1, 0.95364916), (14, 0.9363474), (23, 0.9309185), (22, 0.9286291), (0, 0.906078), (18, 0.9039284), (16, 0.9039261), (17, 0.9039123), (4, 0.89143443)]\n",
        "\u8fdb\u98ce\u53e3\u6e29\u5ea6\u8fc7\u9ad8 \u4e25\u91cd\u544a\u8b66\n",
        "\u786c\u76d8\u6e29\u5ea6\u8fc7\u9ad8 \u8f7b\u5fae\u544a\u8b66\n",
        "IO \u677f\u7f13\u8d77\u7535\u8def\u6e29\u5ea6\u8fc7\u9ad8 \u4e25\u91cd\u544a\u8b66\n"
       ]
      }
     ],
     "prompt_number": 606
    },
    {
     "cell_type": "code",
     "collapsed": false,
     "input": [
      "total_index[10:20]"
     ],
     "language": "python",
     "metadata": {},
     "outputs": [
      {
       "metadata": {},
       "output_type": "pyout",
       "prompt_number": 607,
       "text": [
        "['CPU \u4e0b\u6302\u5185\u5b58\u6e29\u5ea6\u8fc7\u9ad8 \u4e25\u91cd\u544a\u8b66',\n",
        " 'RAID \u6263\u5361\u6e29\u5ea6\u8fc7\u9ad8 \u8f7b\u5fae\u544a\u8b66',\n",
        " 'CPU \u8fc7\u70ed\u5173\u673a \u7d27\u6025\u544a\u8b66',\n",
        " 'CPU \u6e29\u5ea6\u5373\u5c06\u8fbe\u5230\u6700\u9ad8\u6e29\u5ea6 \u8f7b\u5fae\u544a\u8b66',\n",
        " '\u786c\u76d8\u6e29\u5ea6\u8fc7\u9ad8 \u8f7b\u5fae\u544a\u8b66',\n",
        " 'PCIe \u5361\u6e29\u5ea6\u8fc7\u9ad8 \u8f7b\u5fae\u544a\u8b66',\n",
        " 'I/O \u677f\u8fdb\u98ce\u53e3\u4e2d\u95f4\u6e29\u5ea6\u8fc7\u9ad8 \u8f7b\u5fae\u544a\u8b66',\n",
        " 'I/O \u677f\u8fdb\u98ce\u53e3\u53f3\u4fa7\u6e29\u5ea6\u8fc7\u9ad8 \u8f7b\u5fae\u544a\u8b66',\n",
        " 'I/O \u677f\u8fdb\u98ce\u53e3\u5de6\u4fa7\u6e29\u5ea6\u8fc7\u9ad8 \u8f7b\u5fae\u544a\u8b66',\n",
        " '\u7535\u6e90\u6e29\u5ea6\u8fc7\u9ad8 \u4e25\u91cd\u544a\u8b66']"
       ]
      }
     ],
     "prompt_number": 607
    },
    {
     "cell_type": "code",
     "collapsed": false,
     "input": [
      "# get data from database\n",
      "import mysql.connector\n",
      "cnx = mysql.connector.connect(user='mychat', password='qazwsx456852', database='database_chat')\n",
      "cursor = cnx.cursor()\n",
      "query = (\"SELECT phenomenon, degree FROM faulty_part\")\n",
      "cursor.execute(query)\n",
      "total_in = []\n",
      "for (p, d) in cursor:\n",
      "  total_in += [p+' '+d]\n",
      "cursor.close()\n",
      "cnx.close()"
     ],
     "language": "python",
     "metadata": {},
     "outputs": [],
     "prompt_number": 613
    },
    {
     "cell_type": "code",
     "collapsed": false,
     "input": [
      "len(total_in)"
     ],
     "language": "python",
     "metadata": {},
     "outputs": [
      {
       "metadata": {},
       "output_type": "pyout",
       "prompt_number": 615,
       "text": [
        "243"
       ]
      }
     ],
     "prompt_number": 615
    },
    {
     "cell_type": "code",
     "collapsed": false,
     "input": [],
     "language": "python",
     "metadata": {},
     "outputs": []
    }
   ],
   "metadata": {}
  }
 ]
}